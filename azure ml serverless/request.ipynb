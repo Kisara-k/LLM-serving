{
 "cells": [
  {
   "cell_type": "code",
   "execution_count": 4,
   "metadata": {},
   "outputs": [],
   "source": [
    "import requests\n",
    "import json\n",
    "import os\n",
    "from dotenv import load_dotenv\n",
    "\n",
    "load_dotenv()\n",
    "secrets = [s.strip() for s in os.getenv(\"phi_3\").split(\",\")]\n",
    "\n",
    "url = secrets[0]\n",
    "key = secrets[1]\n",
    "\n",
    "api_url = url + \"/v1/chat/completions\"\n",
    "\n",
    "headers = {\n",
    "    \"Authorization\": f\"Bearer {key}\",\n",
    "    \"Content-Type\": \"application/json\",\n",
    "}"
   ]
  },
  {
   "cell_type": "code",
   "execution_count": 6,
   "metadata": {},
   "outputs": [
    {
     "name": "stdout",
     "output_type": "stream",
     "text": [
      "The meaning of life is a philosophical question concerning the significance of existence or consciousness. Humans have pondered this question for centuries, and it has been addressed by various disciplines, including philosophy, religion, science, and literature.\n",
      "\n",
      "Different perspectives offer various answers to the meaning of life:\n",
      "\n",
      "1. Religious and spiritual perspectives: Many religions provide their own answers to the meaning of life. For example, in Christianity, the meaning of life is to love and serve God and to attain eternal life with Him. In Buddhism, the meaning of life is to achieve enlightenment and escape the cycle of rebirth.\n",
      "\n",
      "2. Philosophical perspectives: Philosophers have proposed numerous theories about the meaning of life. Existentialists, such as Jean-Paul Sartre, argue that life has no inherent meaning, and it is up to each individual to create their own purpose. In contrast, Aristotle believed that the meaning of life is to achieve eudaimonia, or human flourishing, through the pursuit of virtue and excellence.\n",
      "\n",
      "3. Scientific perspectives: From a scientific standpoint, the meaning of life can be seen as the result of evolution and natural selection. The purpose of life, in this view, is to survive and reproduce, passing on one's genes to the next generation.\n",
      "\n",
      "4. Humanistic perspectives: Humanists believe that the meaning of life is to seek happiness, fulfillment, and self-actualization. They emphasize the importance of personal growth, creativity, and the pursuit of knowledge.\n",
      "\n",
      "Ultimately, the meaning of life is a deeply personal question, and each individual must find their own answer. Some people find meaning through their relationships, work, or hobbies, while others find it through spirituality or a sense of purpose. The search for meaning is a lifelong journey, and it is up to each person to determine what gives their life significance and value.\n"
     ]
    }
   ],
   "source": [
    "def stream_response(headers, payload):\n",
    "    with requests.post(api_url, json=payload, headers=headers, stream=True) as response:\n",
    "        response.raise_for_status()\n",
    "        \n",
    "        for line in response.iter_lines():\n",
    "            if line:\n",
    "                decoded_line = line.decode(\"utf-8\").strip()\n",
    "                \n",
    "                if decoded_line.startswith(\"data: \"):\n",
    "                    json_data = decoded_line[6:].strip()\n",
    "                    if json_data and json_data != \"[DONE]\":\n",
    "                        try:\n",
    "                            parsed_data = json.loads(json_data)\n",
    "                            if \"choices\" in parsed_data and parsed_data[\"choices\"]:\n",
    "                                chunk = parsed_data[\"choices\"][0].get(\"delta\", {}).get(\"content\", \"\")\n",
    "                                if chunk:\n",
    "                                    print(chunk, end=\"\", flush=True)\n",
    "                        except json.JSONDecodeError:\n",
    "                            continue\n",
    "\n",
    "        print()\n",
    "\n",
    "def non_stream_response(headers, payload):\n",
    "    \n",
    "    response = requests.post(api_url, json=payload, headers=headers)\n",
    "    response.raise_for_status() # Ensure the request was successful\n",
    "\n",
    "    response_json = response.json()\n",
    "    \n",
    "    if \"choices\" in response_json and response_json[\"choices\"]:\n",
    "        generated_text = response_json[\"choices\"][0].get(\"message\", {}).get(\"content\", \"\")\n",
    "        print(generated_text)\n",
    "        return generated_text\n",
    "    else:\n",
    "        print(\"Unexpected response format:\", response_json)\n",
    "        return None\n",
    "\n",
    "def inference(prompt, stream=True):\n",
    "    \n",
    "    payload = {\n",
    "        \"frequency_penalty\": 0,\n",
    "        \"max_tokens\": 2048,\n",
    "        \"messages\": [{\"role\": \"user\", \"content\": prompt}],\n",
    "        \"presence_penalty\": 0,\n",
    "        \"stream\": stream,\n",
    "        \"temperature\": 0.8,\n",
    "        \"top_p\": 0.5\n",
    "    }\n",
    "    if stream:\n",
    "        return stream_response(headers, payload)\n",
    "    else:\n",
    "        return non_stream_response(headers, payload)\n",
    "\n",
    "inference(\"What's the meaning of life?\")\n"
   ]
  },
  {
   "cell_type": "code",
   "execution_count": null,
   "metadata": {},
   "outputs": [],
   "source": [
    "#"
   ]
  }
 ],
 "metadata": {
  "kernelspec": {
   "display_name": "Python 3",
   "language": "python",
   "name": "python3"
  },
  "language_info": {
   "codemirror_mode": {
    "name": "ipython",
    "version": 3
   },
   "file_extension": ".py",
   "mimetype": "text/x-python",
   "name": "python",
   "nbconvert_exporter": "python",
   "pygments_lexer": "ipython3",
   "version": "3.13.0"
  }
 },
 "nbformat": 4,
 "nbformat_minor": 2
}
