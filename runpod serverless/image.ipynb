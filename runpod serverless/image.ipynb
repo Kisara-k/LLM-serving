{
 "cells": [
  {
   "cell_type": "code",
   "execution_count": 1,
   "metadata": {},
   "outputs": [],
   "source": [
    "from dotenv import load_dotenv\n",
    "import os\n",
    "load_dotenv()\n",
    "\n",
    "RUNPOD_API_KEY = os.getenv(\"RUNPOD_API_KEY\")"
   ]
  },
  {
   "cell_type": "code",
   "execution_count": 34,
   "metadata": {},
   "outputs": [],
   "source": [
    "import requests\n",
    "\n",
    "RUNPOD_ENDPOINT_ID = 'sw0tgzmaqgxyvp'\n",
    "\n",
    "headers = {\n",
    "    'Content-Type': 'application/json',\n",
    "    'Authorization': f'Bearer {RUNPOD_API_KEY}'\n",
    "}\n",
    "\n",
    "quality_tags = '(masterpiece, realistic, best quality, ultra-detailed, high resolution, intricate design, 8K, photorealistic, professional lighting)'\n",
    "prompt = 'A futuristic robot girl with glowing neon circuits, sleek metallic body, and expressive cybernetic eyes, wearing a high-tech bodysuit. Standing in a sci-fi cityscape with neon lights reflecting off wet streets'\n",
    "\n",
    "data = {\n",
    "  'input': {\n",
    "  \"prompt\": prompt + quality_tags,\n",
    "  \"negative_prompt\": \"blurry, low quality, pixelated, distorted, deformed hands, extra limbs, asymmetrical features, text, watermark\",\n",
    "  \"width\": 512,\n",
    "  \"height\": 768,\n",
    "#   \"samples\": 1,\n",
    "#   \"num_inference_steps\": 50,\n",
    "#   \"guidance_scale\": 7.5,\n",
    "#   \"seed\": null,\n",
    "#   \"safety_checker\": \"yes\",\n",
    "#   \"enhance_prompt\": \"yes\",\n",
    "#   \"multi_lingual\": \"no\",\n",
    "#   \"panorama\": \"no\",\n",
    "#   \"self_attention\": \"yes\",\n",
    "#   \"upscale\": \"no\",\n",
    "#   \"embeddings_model\": \"default\",\n",
    "#   \"webhook\": null,\n",
    "#   \"track_id\": \"robotgirl_001\"\n",
    "}\n",
    "}\n",
    "\n",
    "# response = requests.post('https://api.runpod.ai/v2/sw0tgzmaqgxyvp/run', headers=headers, json=data)"
   ]
  },
  {
   "cell_type": "code",
   "execution_count": null,
   "metadata": {},
   "outputs": [],
   "source": [
    "response.status_code"
   ]
  },
  {
   "cell_type": "code",
   "execution_count": null,
   "metadata": {},
   "outputs": [],
   "source": [
    "response.json().get('id')"
   ]
  },
  {
   "cell_type": "code",
   "execution_count": null,
   "metadata": {},
   "outputs": [],
   "source": [
    "import time\n",
    "\n",
    "endpoint_id = 'sw0tgzmaqgxyvp'\n",
    "\n",
    "start_time = time.time()\n",
    "#response = requests.post(f'https://api.runpod.ai/v2/{endpoint_id}/run', headers=headers, json=data)\n",
    "\n",
    "status_headers = {\n",
    "    'Authorization': f'Bearer {RUNPOD_API_KEY}'\n",
    "}\n",
    "\n",
    "job_id = response.json().get('id')\n",
    "\n",
    "while True:\n",
    "    response_img = requests.get(f'https://api.runpod.ai/v2/{endpoint_id}/status/{job_id}', headers=status_headers)\n",
    "    status = response_img.json().get('status')\n",
    "    if status == \"COMPLETED\":\n",
    "        break\n",
    "    time.sleep(1)\n",
    "\n",
    "elapsed_time = time.time() - start_time\n",
    "\n",
    "print(f\"Completed in {elapsed_time:.2f} seconds.\")\n",
    "image = response_img.json().get('output')[0].get('image')\n",
    "\n",
    "from utils import display_image\n",
    "\n",
    "#display_image(image, max_size=1000)\n"
   ]
  },
  {
   "cell_type": "code",
   "execution_count": null,
   "metadata": {},
   "outputs": [],
   "source": [
    "response_img.json()"
   ]
  },
  {
   "cell_type": "code",
   "execution_count": null,
   "metadata": {},
   "outputs": [],
   "source": []
  },
  {
   "cell_type": "code",
   "execution_count": null,
   "metadata": {},
   "outputs": [],
   "source": [
    "import time\n",
    "import threading\n",
    "from utils import display_image\n",
    "\n",
    "def process_request(thread_id, data):\n",
    "\n",
    "    start_time = time.time()\n",
    "\n",
    "    response = requests.post('https://api.runpod.ai/v2/sw0tgzmaqgxyvp/run', headers=headers, json=data)\n",
    "    job_id = response.json().get('id')\n",
    "\n",
    "    status_headers = {'Authorization': f'Bearer {RUNPOD_API_KEY}'}\n",
    "\n",
    "    while True:\n",
    "        response_img = requests.get(f'https://api.runpod.ai/v2/sw0tgzmaqgxyvp/status/{job_id}', headers=status_headers)\n",
    "        status = response_img.json().get('status')\n",
    "\n",
    "        if status == \"COMPLETED\":\n",
    "            break\n",
    "        time.sleep(1)\n",
    "\n",
    "    image = response_img.json().get('output')[0].get('image')\n",
    "    elapsed_time = time.time() - start_time\n",
    "    print(f\"Thread {thread_id} completed in {elapsed_time:.2f} seconds.\")\n",
    "\n",
    "    display_image(image, max_size=200)\n",
    "\n",
    "threads = []\n",
    "\n",
    "for i in range(6):\n",
    "    thread = threading.Thread(target=process_request, args=(i, data))\n",
    "    threads.append(thread)\n",
    "    thread.start()\n",
    "\n",
    "# Wait for all threads to complete\n",
    "for thread in threads:\n",
    "    thread.join()\n",
    "\n",
    "print(\"All requests completed.\")"
   ]
  },
  {
   "cell_type": "code",
   "execution_count": null,
   "metadata": {},
   "outputs": [],
   "source": []
  },
  {
   "cell_type": "code",
   "execution_count": null,
   "metadata": {},
   "outputs": [],
   "source": []
  },
  {
   "cell_type": "code",
   "execution_count": null,
   "metadata": {},
   "outputs": [],
   "source": []
  }
 ],
 "metadata": {
  "kernelspec": {
   "display_name": "Python 3",
   "language": "python",
   "name": "python3"
  },
  "language_info": {
   "codemirror_mode": {
    "name": "ipython",
    "version": 3
   },
   "file_extension": ".py",
   "mimetype": "text/x-python",
   "name": "python",
   "nbconvert_exporter": "python",
   "pygments_lexer": "ipython3",
   "version": "3.12.1"
  }
 },
 "nbformat": 4,
 "nbformat_minor": 2
}
