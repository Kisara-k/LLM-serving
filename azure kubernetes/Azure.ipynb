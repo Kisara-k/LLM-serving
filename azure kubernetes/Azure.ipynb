{
 "cells": [
  {
   "cell_type": "code",
   "execution_count": 4,
   "metadata": {},
   "outputs": [],
   "source": [
    "import requests\n",
    "import json\n",
    "\n",
    "# Your external IP address\n",
    "external_ip = \"4.156.207.173\"\n",
    "\n",
    "# URL for the model list endpoint\n",
    "models_url = f\"http://{external_ip}:30115/v1/models\"\n",
    "\n",
    "# URL for the text completion endpoint\n",
    "completion_url = f\"http://{external_ip}/v1/completions\"\n",
    "\n",
    "# URL for the chat completion endpoint\n",
    "chat_url = f\"http://{external_ip}/v1/chat/completions\"\n",
    "\n",
    "# Headers\n",
    "headers = {\"Content-Type\": \"application/json\"}\n",
    "\n",
    "# Function to list available models\n",
    "def list_models():\n",
    "    try:\n",
    "        response = requests.get(models_url)\n",
    "        response.raise_for_status()  # Raises an HTTPError for bad responses\n",
    "        print(\"Models:\", response.json())\n",
    "    except requests.exceptions.RequestException as e:\n",
    "        print(f\"Error while listing models: {e}\")\n",
    "\n",
    "# Function to generate text completion\n",
    "def generate_text(prompt, model=\"Your-Model-Name\", max_tokens=50, temperature=0.7):\n",
    "    data = {\n",
    "        \"model\": model,\n",
    "        \"prompt\": prompt,\n",
    "        \"max_tokens\": max_tokens,\n",
    "        \"temperature\": temperature\n",
    "    }\n",
    "    \n",
    "    try:\n",
    "        response = requests.post(completion_url, headers=headers, data=json.dumps(data))\n",
    "        response.raise_for_status()\n",
    "        print(\"Completion:\", response.json())\n",
    "    except requests.exceptions.RequestException as e:\n",
    "        print(f\"Error while generating text: {e}\")\n",
    "\n",
    "# Function to generate chat completion\n",
    "def generate_chat(prompt, model=\"Your-Model-Name\"):\n",
    "    data = {\n",
    "        \"model\": model,\n",
    "        \"messages\": [\n",
    "            {\"role\": \"system\", \"content\": \"You are a helpful assistant.\"},\n",
    "            {\"role\": \"user\", \"content\": prompt}\n",
    "        ]\n",
    "    }\n",
    "    \n",
    "    try:\n",
    "        response = requests.post(chat_url, headers=headers, data=json.dumps(data))\n",
    "        response.raise_for_status()\n",
    "        print(\"Chat Completion:\", response.json())\n",
    "    except requests.exceptions.RequestException as e:\n",
    "        print(f\"Error while generating chat completion: {e}\")"
   ]
  },
  {
   "cell_type": "code",
   "execution_count": 6,
   "metadata": {},
   "outputs": [
    {
     "name": "stdout",
     "output_type": "stream",
     "text": [
      "Error while listing models: HTTPConnectionPool(host='4.156.207.173', port=30115): Max retries exceeded with url: /v1/models (Caused by ConnectTimeoutError(<urllib3.connection.HTTPConnection object at 0x0000027BD4CC9670>, 'Connection to 4.156.207.173 timed out. (connect timeout=None)'))\n"
     ]
    }
   ],
   "source": [
    "list_models()"
   ]
  },
  {
   "cell_type": "code",
   "execution_count": null,
   "metadata": {},
   "outputs": [],
   "source": []
  },
  {
   "cell_type": "code",
   "execution_count": null,
   "metadata": {},
   "outputs": [],
   "source": []
  }
 ],
 "metadata": {
  "kernelspec": {
   "display_name": "Python 3",
   "language": "python",
   "name": "python3"
  },
  "language_info": {
   "codemirror_mode": {
    "name": "ipython",
    "version": 3
   },
   "file_extension": ".py",
   "mimetype": "text/x-python",
   "name": "python",
   "nbconvert_exporter": "python",
   "pygments_lexer": "ipython3",
   "version": "3.13.0"
  }
 },
 "nbformat": 4,
 "nbformat_minor": 2
}
